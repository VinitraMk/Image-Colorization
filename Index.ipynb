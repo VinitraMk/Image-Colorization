{
 "cells": [
  {
   "cell_type": "code",
   "execution_count": null,
   "metadata": {},
   "outputs": [],
   "source": [
    "# this cell is for downloading data.\n",
    "# as of yet data is not hosted and is available in the private data folder"
   ]
  },
  {
   "cell_type": "code",
   "execution_count": null,
   "metadata": {},
   "outputs": [],
   "source": [
    "# setup some imports\n",
    "#custom imports\n",
    "import config\n",
    "from transforms.transforms import ToTensor\n",
    "from dataloading.datareader import DataReader\n",
    "from dataloading.dataset import CustomDataset\n",
    "from common.utils import get_exp_params\n",
    "\n",
    "#py imports\n",
    "import random\n",
    "import numpy as np\n",
    "import os\n",
    "import torch\n",
    "from torchvision import transforms\n",
    "from torch.utils.data import DataLoader"
   ]
  },
  {
   "cell_type": "code",
   "execution_count": null,
   "metadata": {},
   "outputs": [],
   "source": [
    "# read experiment parameters\n",
    "exp_params = get_exp_params()"
   ]
  },
  {
   "cell_type": "code",
   "execution_count": null,
   "metadata": {},
   "outputs": [],
   "source": [
    "# initialize directories and config data\n",
    "config.root_dir = os.getcwd()\n",
    "config.use_gpu = torch.cuda.is_available()\n",
    "config.data_dir = os.path.join(os.getcwd(), 'data')"
   ]
  },
  {
   "cell_type": "code",
   "execution_count": null,
   "metadata": {},
   "outputs": [],
   "source": [
    "#initialize randomness seed\n",
    "seed = 123\n",
    "random.seed(seed)\n",
    "np.random.seed(seed)\n",
    "torch.manual_seed(seed)\n",
    "torch.cuda.manual_seed(seed)\n",
    "torch.backends.cudnn.deterministic = True"
   ]
  },
  {
   "cell_type": "code",
   "execution_count": null,
   "metadata": {},
   "outputs": [],
   "source": [
    "#preprocess data or load preprocessed data\n",
    "dr = DataReader()\n",
    "ds = dr.get_split_data()\n",
    "Ltr, ABtr, ftr_len = ds['Ltr'], ds['ABtr'], ds['ftr_len']\n",
    "Lte, ABte, te_len = ds['Lte'], ds['ABte'], ds['te_len']\n",
    "\n",
    "#transform data\n",
    "composed_transforms =  transforms.Compose([\n",
    "    ToTensor(True)\n",
    "])\n",
    "\n",
    "#convert to dataset\n",
    "ftr_dataset = CustomDataset(Ltr, ABtr, ftr_len, composed_transforms)\n",
    "te_dataset = CustomDataset(Lte, ABte, te_len, composed_transforms)\n",
    "\n",
    "#load data\n",
    "ftr_loader = DataLoader(ftr_dataset, batch_size = exp_params['data_params']['batch_size'])\n",
    "te_loader = DataLoader(te_dataset, batch_size = exp_params['data_params']['batch_size'])"
   ]
  },
  {
   "cell_type": "code",
   "execution_count": null,
   "metadata": {},
   "outputs": [],
   "source": []
  }
 ],
 "metadata": {
  "kernelspec": {
   "display_name": "mlprojects",
   "language": "python",
   "name": "python3"
  },
  "language_info": {
   "name": "python",
   "version": "3.10.13"
  }
 },
 "nbformat": 4,
 "nbformat_minor": 2
}
