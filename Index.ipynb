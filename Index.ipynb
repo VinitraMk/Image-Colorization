# %%
# this cell is for downloading data.
# as of yet data is not hosted and is available in the private data folder

# %%
# setup some imports

# custom imports

